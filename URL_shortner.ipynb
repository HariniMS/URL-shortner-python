{
  "nbformat": 4,
  "nbformat_minor": 0,
  "metadata": {
    "colab": {
      "name": "URL_shortner.ipynb",
      "provenance": []
    },
    "kernelspec": {
      "name": "python3",
      "display_name": "Python 3"
    }
  },
  "cells": [
    {
      "cell_type": "markdown",
      "metadata": {
        "id": "VRREMbI1M-mO",
        "colab_type": "text"
      },
      "source": [
        "# Python URL shortner \n",
        "\n",
        "writing the python program for URL shortner which shorts the URLs in no time, by using pyshorteners module"
      ]
    },
    {
      "cell_type": "code",
      "metadata": {
        "id": "SSLeHYJcLutI",
        "colab_type": "code",
        "colab": {
          "base_uri": "https://localhost:8080/",
          "height": 138
        },
        "outputId": "56692a41-d602-4543-e527-e90086fbe706"
      },
      "source": [
        "#installing pyshorteners for URL shortner\n",
        "!pip install pyshorteners\n",
        "import pyshorteners"
      ],
      "execution_count": 1,
      "outputs": [
        {
          "output_type": "stream",
          "text": [
            "Requirement already satisfied: pyshorteners in /usr/local/lib/python3.6/dist-packages (1.0.1)\n",
            "Requirement already satisfied: requests in /usr/local/lib/python3.6/dist-packages (from pyshorteners) (2.23.0)\n",
            "Requirement already satisfied: idna<3,>=2.5 in /usr/local/lib/python3.6/dist-packages (from requests->pyshorteners) (2.10)\n",
            "Requirement already satisfied: urllib3!=1.25.0,!=1.25.1,<1.26,>=1.21.1 in /usr/local/lib/python3.6/dist-packages (from requests->pyshorteners) (1.24.3)\n",
            "Requirement already satisfied: chardet<4,>=3.0.2 in /usr/local/lib/python3.6/dist-packages (from requests->pyshorteners) (3.0.4)\n",
            "Requirement already satisfied: certifi>=2017.4.17 in /usr/local/lib/python3.6/dist-packages (from requests->pyshorteners) (2020.6.20)\n"
          ],
          "name": "stdout"
        }
      ]
    },
    {
      "cell_type": "code",
      "metadata": {
        "id": "zWwjEEMgL3Cv",
        "colab_type": "code",
        "colab": {
          "base_uri": "https://localhost:8080/",
          "height": 50
        },
        "outputId": "deea5cb4-2e1a-4450-d37e-29a79af7df39"
      },
      "source": [
        "#asking the user for the input\n",
        "url = input(\"Enter URL -->>   \")\n",
        "\n",
        "#printing shortened URL\n",
        "print(\"URL after shortening -->\", \n",
        "      pyshorteners.Shortener().tinyurl.short(url))"
      ],
      "execution_count": 2,
      "outputs": [
        {
          "output_type": "stream",
          "text": [
            "Enter URL -->>   https://github.com/HariniMS \n",
            "URL after shortening --> http://tinyurl.com/y4z4xhv6\n"
          ],
          "name": "stdout"
        }
      ]
    },
    {
      "cell_type": "markdown",
      "metadata": {
        "id": "8GpwLv6tOgQy",
        "colab_type": "text"
      },
      "source": [
        "User entered https://github.com/HariniMS as the original URL, after shorts the url, we got http://tinyurl.com/y4z4xhv6\n",
        "\n"
      ]
    }
  ]
}